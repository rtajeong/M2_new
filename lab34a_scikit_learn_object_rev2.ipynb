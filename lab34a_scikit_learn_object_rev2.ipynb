{
  "nbformat": 4,
  "nbformat_minor": 0,
  "metadata": {
    "colab": {
      "provenance": [],
      "include_colab_link": true
    },
    "kernelspec": {
      "name": "python3",
      "display_name": "Python 3"
    },
    "language_info": {
      "name": "python"
    }
  },
  "cells": [
    {
      "cell_type": "markdown",
      "metadata": {
        "id": "view-in-github",
        "colab_type": "text"
      },
      "source": [
        "<a href=\"https://colab.research.google.com/github/rtajeong/M2_new/blob/main/lab34a_scikit_learn_object_rev2.ipynb\" target=\"_parent\"><img src=\"https://colab.research.google.com/assets/colab-badge.svg\" alt=\"Open In Colab\"/></a>"
      ]
    },
    {
      "cell_type": "markdown",
      "metadata": {
        "id": "iQQu179-mCEy"
      },
      "source": [
        "# Scikit-Learn API convention\n",
        "- to show how scikit-learn objects are made\n",
        "- all objects share a consistent and simple interface\n",
        "- The main objects in sklearn are:\n",
        "   - estimator E: to learn from data\n",
        "     - E.fit(X,y) or E.fit(X)\n",
        "   - predictor P: to make prediction for the data\n",
        "     - P.predict(X)\n",
        "     - (to quantify certainty of a prediction)\n",
        "       - P.predict_proba(X) or P.decision_function(X)\n",
        "   - transformer T: filtering or modifying the data\n",
        "     - T.transform(X), or T.fit_transform(X)\n",
        "   - goodness of the model:\n",
        "     -  score = model.score(X)\n"
      ]
    },
    {
      "cell_type": "markdown",
      "source": [
        "## Example 1 - transformer(unsupervised)"
      ],
      "metadata": {
        "id": "RiG5p02C1eSP"
      }
    },
    {
      "cell_type": "code",
      "metadata": {
        "id": "0Kok-wiOl210"
      },
      "source": [
        "import numpy as np\n"
      ],
      "execution_count": 1,
      "outputs": []
    },
    {
      "cell_type": "code",
      "metadata": {
        "id": "nKqxwFJkmOkh"
      },
      "source": [
        "def _mean_and_std(X, axis=0):\n",
        "\n",
        "    X = np.asarray(X)\n",
        "    mean_ = X.mean(axis)\n",
        "    std_ = X.std(axis)\n",
        "\n",
        "    return mean_, std_"
      ],
      "execution_count": 2,
      "outputs": []
    },
    {
      "cell_type": "code",
      "metadata": {
        "colab": {
          "base_uri": "https://localhost:8080/"
        },
        "id": "KWh7F2cboEyi",
        "outputId": "e88773dd-b786-447f-dc2c-28c8a47ef42f"
      },
      "source": [
        "data = np.array([[1,2,3],\n",
        "                 [4,5,6]]); data"
      ],
      "execution_count": 3,
      "outputs": [
        {
          "output_type": "execute_result",
          "data": {
            "text/plain": [
              "array([[1, 2, 3],\n",
              "       [4, 5, 6]])"
            ]
          },
          "metadata": {},
          "execution_count": 3
        }
      ]
    },
    {
      "cell_type": "code",
      "metadata": {
        "colab": {
          "base_uri": "https://localhost:8080/"
        },
        "id": "lMIClXDxuxef",
        "outputId": "b0cfb28a-23f7-44ee-c411-defb795a65aa"
      },
      "source": [
        "_mean_and_std(data, 0), _mean_and_std(data, 1)"
      ],
      "execution_count": 4,
      "outputs": [
        {
          "output_type": "execute_result",
          "data": {
            "text/plain": [
              "((array([2.5, 3.5, 4.5]), array([1.5, 1.5, 1.5])),\n",
              " (array([2., 5.]), array([0.81649658, 0.81649658])))"
            ]
          },
          "metadata": {},
          "execution_count": 4
        }
      ]
    },
    {
      "cell_type": "code",
      "metadata": {
        "id": "JEAq7b5koJ_L"
      },
      "source": [
        "class my_StandardScaler():\n",
        "\n",
        "    def __init__(self):\n",
        "        self.mean_, self.std_ = 0., 0.\n",
        "\n",
        "    def fit(self, X, y=None):\n",
        "        X = X.astype(np.float32)\n",
        "        self.mean_, self.std_ = _mean_and_std(X, axis=0)\n",
        "        return self\n",
        "\n",
        "    def transform(self, X, y=None):\n",
        "        X = X.astype(np.float32)\n",
        "        X -= self.mean_\n",
        "        X /= self.std_\n",
        "        return X\n",
        "\n",
        "    def fit_transform(self, X, y=None):\n",
        "        X = X.astype(np.float32)\n",
        "        self.mean_, self.std_ = _mean_and_std(X, axis=0)\n",
        "        X -= self.mean_\n",
        "        X /= self.std_\n",
        "        return X\n",
        "\n",
        "    def inverse_transform(self, X):\n",
        "        X = X.astype(np.float32)\n",
        "        X *= self.std_\n",
        "        X += self.mean_\n",
        "        return X"
      ],
      "execution_count": 5,
      "outputs": []
    },
    {
      "cell_type": "code",
      "metadata": {
        "id": "vd0NcLoNqrJA"
      },
      "source": [
        "X = np.array([1,2,3,4,5,6,7,8,9,10])\n",
        "sc = my_StandardScaler()"
      ],
      "execution_count": 6,
      "outputs": []
    },
    {
      "cell_type": "code",
      "source": [
        "sc.mean_, sc.std_"
      ],
      "metadata": {
        "colab": {
          "base_uri": "https://localhost:8080/"
        },
        "id": "KerNNZXlk87n",
        "outputId": "8746d295-6b82-40f5-85ac-abce5d965e4a"
      },
      "execution_count": 7,
      "outputs": [
        {
          "output_type": "execute_result",
          "data": {
            "text/plain": [
              "(0.0, 0.0)"
            ]
          },
          "metadata": {},
          "execution_count": 7
        }
      ]
    },
    {
      "cell_type": "code",
      "metadata": {
        "id": "EtoOZkLIviQv",
        "colab": {
          "base_uri": "https://localhost:8080/"
        },
        "outputId": "e4ab453f-d854-46a3-94be-6a301fd38441"
      },
      "source": [
        "dir(sc)"
      ],
      "execution_count": 8,
      "outputs": [
        {
          "output_type": "execute_result",
          "data": {
            "text/plain": [
              "['__class__',\n",
              " '__delattr__',\n",
              " '__dict__',\n",
              " '__dir__',\n",
              " '__doc__',\n",
              " '__eq__',\n",
              " '__format__',\n",
              " '__ge__',\n",
              " '__getattribute__',\n",
              " '__gt__',\n",
              " '__hash__',\n",
              " '__init__',\n",
              " '__init_subclass__',\n",
              " '__le__',\n",
              " '__lt__',\n",
              " '__module__',\n",
              " '__ne__',\n",
              " '__new__',\n",
              " '__reduce__',\n",
              " '__reduce_ex__',\n",
              " '__repr__',\n",
              " '__setattr__',\n",
              " '__sizeof__',\n",
              " '__str__',\n",
              " '__subclasshook__',\n",
              " '__weakref__',\n",
              " 'fit',\n",
              " 'fit_transform',\n",
              " 'inverse_transform',\n",
              " 'mean_',\n",
              " 'std_',\n",
              " 'transform']"
            ]
          },
          "metadata": {},
          "execution_count": 8
        }
      ]
    },
    {
      "cell_type": "code",
      "metadata": {
        "colab": {
          "base_uri": "https://localhost:8080/"
        },
        "id": "9j0xaZ37rGsg",
        "outputId": "90a8c3db-e032-4138-b17e-8f13ace5df96"
      },
      "source": [
        "sc.fit(X)"
      ],
      "execution_count": 10,
      "outputs": [
        {
          "output_type": "execute_result",
          "data": {
            "text/plain": [
              "<__main__.my_StandardScaler at 0x7c2d8a035720>"
            ]
          },
          "metadata": {},
          "execution_count": 10
        }
      ]
    },
    {
      "cell_type": "code",
      "metadata": {
        "colab": {
          "base_uri": "https://localhost:8080/"
        },
        "id": "xxu4pcpQrI2f",
        "outputId": "31988fe6-e148-439a-b9ab-534119c47bc7"
      },
      "source": [
        "sc.mean_, sc.std_"
      ],
      "execution_count": 11,
      "outputs": [
        {
          "output_type": "execute_result",
          "data": {
            "text/plain": [
              "(5.5, 2.8722813)"
            ]
          },
          "metadata": {},
          "execution_count": 11
        }
      ]
    },
    {
      "cell_type": "code",
      "metadata": {
        "colab": {
          "base_uri": "https://localhost:8080/"
        },
        "id": "4rY9PS65rT3Y",
        "outputId": "55aea270-1b12-4b23-be2d-c3d7aad3c616"
      },
      "source": [
        "X_sc = sc.transform(X); X_sc"
      ],
      "execution_count": 12,
      "outputs": [
        {
          "output_type": "execute_result",
          "data": {
            "text/plain": [
              "array([-1.5666989 , -1.2185436 , -0.87038827, -0.52223295, -0.17407766,\n",
              "        0.17407766,  0.52223295,  0.87038827,  1.2185436 ,  1.5666989 ],\n",
              "      dtype=float32)"
            ]
          },
          "metadata": {},
          "execution_count": 12
        }
      ]
    },
    {
      "cell_type": "code",
      "metadata": {
        "colab": {
          "base_uri": "https://localhost:8080/"
        },
        "id": "SG-q1S2Kr9Mw",
        "outputId": "f29f4cc1-6afd-44f2-9d04-216cd188d337"
      },
      "source": [
        "sc.inverse_transform(X_sc)"
      ],
      "execution_count": 13,
      "outputs": [
        {
          "output_type": "execute_result",
          "data": {
            "text/plain": [
              "array([ 1.       ,  1.9999998,  3.       ,  4.       ,  5.       ,\n",
              "        6.       ,  7.       ,  8.       ,  9.       , 10.       ],\n",
              "      dtype=float32)"
            ]
          },
          "metadata": {},
          "execution_count": 13
        }
      ]
    },
    {
      "cell_type": "code",
      "source": [
        "from sklearn.preprocessing import StandardScaler"
      ],
      "metadata": {
        "id": "9xeAkvBWP-un"
      },
      "execution_count": 14,
      "outputs": []
    },
    {
      "cell_type": "code",
      "source": [
        "X"
      ],
      "metadata": {
        "colab": {
          "base_uri": "https://localhost:8080/"
        },
        "id": "OMKlhOSeQFd5",
        "outputId": "1b85d669-f426-44d7-ff58-51bfab95f8d7"
      },
      "execution_count": 15,
      "outputs": [
        {
          "output_type": "execute_result",
          "data": {
            "text/plain": [
              "array([ 1,  2,  3,  4,  5,  6,  7,  8,  9, 10])"
            ]
          },
          "metadata": {},
          "execution_count": 15
        }
      ]
    },
    {
      "cell_type": "code",
      "source": [
        "model = StandardScaler()"
      ],
      "metadata": {
        "id": "STblUZlDQfQM"
      },
      "execution_count": 18,
      "outputs": []
    },
    {
      "cell_type": "code",
      "source": [
        "dir(model)"
      ],
      "metadata": {
        "colab": {
          "base_uri": "https://localhost:8080/"
        },
        "id": "9mZSEIEhQhVO",
        "outputId": "75cd2488-9a36-4ae5-d5d2-55b89e9cf1a7"
      },
      "execution_count": 19,
      "outputs": [
        {
          "output_type": "execute_result",
          "data": {
            "text/plain": [
              "['__annotations__',\n",
              " '__class__',\n",
              " '__delattr__',\n",
              " '__dict__',\n",
              " '__dir__',\n",
              " '__doc__',\n",
              " '__eq__',\n",
              " '__format__',\n",
              " '__ge__',\n",
              " '__getattribute__',\n",
              " '__getstate__',\n",
              " '__gt__',\n",
              " '__hash__',\n",
              " '__init__',\n",
              " '__init_subclass__',\n",
              " '__le__',\n",
              " '__lt__',\n",
              " '__module__',\n",
              " '__ne__',\n",
              " '__new__',\n",
              " '__reduce__',\n",
              " '__reduce_ex__',\n",
              " '__repr__',\n",
              " '__setattr__',\n",
              " '__setstate__',\n",
              " '__sizeof__',\n",
              " '__str__',\n",
              " '__subclasshook__',\n",
              " '__weakref__',\n",
              " '_check_feature_names',\n",
              " '_check_n_features',\n",
              " '_get_param_names',\n",
              " '_get_tags',\n",
              " '_more_tags',\n",
              " '_parameter_constraints',\n",
              " '_repr_html_',\n",
              " '_repr_html_inner',\n",
              " '_repr_mimebundle_',\n",
              " '_reset',\n",
              " '_sklearn_auto_wrap_output_keys',\n",
              " '_validate_data',\n",
              " '_validate_params',\n",
              " 'copy',\n",
              " 'fit',\n",
              " 'fit_transform',\n",
              " 'get_feature_names_out',\n",
              " 'get_params',\n",
              " 'inverse_transform',\n",
              " 'partial_fit',\n",
              " 'set_output',\n",
              " 'set_params',\n",
              " 'transform',\n",
              " 'with_mean',\n",
              " 'with_std']"
            ]
          },
          "metadata": {},
          "execution_count": 19
        }
      ]
    },
    {
      "cell_type": "code",
      "source": [
        "# with sklearn library\n",
        "model = StandardScaler()\n",
        "X_sc = model.fit_transform(X.reshape(-1,1))\n",
        "model.mean_, model.var_, X_sc"
      ],
      "metadata": {
        "colab": {
          "base_uri": "https://localhost:8080/"
        },
        "id": "ZyPL3JiSQJKT",
        "outputId": "7c9188ba-bb02-44cf-cca9-5c177b759b1c"
      },
      "execution_count": 22,
      "outputs": [
        {
          "output_type": "execute_result",
          "data": {
            "text/plain": [
              "(array([5.5]),\n",
              " array([8.25]),\n",
              " array([[-1.5666989 ],\n",
              "        [-1.21854359],\n",
              "        [-0.87038828],\n",
              "        [-0.52223297],\n",
              "        [-0.17407766],\n",
              "        [ 0.17407766],\n",
              "        [ 0.52223297],\n",
              "        [ 0.87038828],\n",
              "        [ 1.21854359],\n",
              "        [ 1.5666989 ]]))"
            ]
          },
          "metadata": {},
          "execution_count": 22
        }
      ]
    },
    {
      "cell_type": "markdown",
      "source": [
        "## Example 2 - predictor (supervised)"
      ],
      "metadata": {
        "id": "dNSMbG_10va4"
      }
    },
    {
      "cell_type": "code",
      "source": [
        "import numpy as np\n",
        "from sklearn.metrics import r2_score\n",
        "\n",
        "# my own OLS(Ordinary Least Square)\n",
        "class my_OLS ():\n",
        "\n",
        "    def __init__(self):\n",
        "        self.W_ = np.array([])\n",
        "\n",
        "    def fit(self, X, y):\n",
        "        for i in range(len(X)+1):\n",
        "            np.append(self.W_, 0)\n",
        "        X_b = np.concatenate([X, np.ones((X.shape[0], 1))], axis=1)\n",
        "        self.W_ = np.linalg.inv(X_b.T.dot(X_b)).dot(X_b.T).dot(y)\n",
        "\n",
        "    def score(self, X, y):\n",
        "        pred = self.predict(X)\n",
        "        return r2_score(pred, y)\n",
        "\n",
        "    def predict(self, X):\n",
        "        X_b = np.concatenate([X, np.ones((X.shape[0], 1))], axis=1)\n",
        "        return X_b@self.W_"
      ],
      "metadata": {
        "id": "b6PFfzSz2FOw"
      },
      "execution_count": 23,
      "outputs": []
    },
    {
      "cell_type": "code",
      "source": [
        "from sklearn.datasets import make_regression\n",
        "\n",
        "X, y = make_regression(n_samples=100, n_features=2, noise=10, random_state=1)"
      ],
      "metadata": {
        "id": "f0_w38925new"
      },
      "execution_count": 25,
      "outputs": []
    },
    {
      "cell_type": "code",
      "source": [
        "X_sc = my_StandardScaler().fit_transform(X)"
      ],
      "metadata": {
        "id": "C04mF75wUeFz"
      },
      "execution_count": 26,
      "outputs": []
    },
    {
      "cell_type": "code",
      "source": [
        "model = my_OLS()\n",
        "model.fit(X_sc, y)"
      ],
      "metadata": {
        "id": "EdZfSJKEUz0P"
      },
      "execution_count": 27,
      "outputs": []
    },
    {
      "cell_type": "code",
      "source": [
        "model.W_"
      ],
      "metadata": {
        "colab": {
          "base_uri": "https://localhost:8080/"
        },
        "id": "R1FDXvVKU5ub",
        "outputId": "1f896862-b58f-49a1-e24d-f2ce8cdfe2f4"
      },
      "execution_count": 28,
      "outputs": [
        {
          "output_type": "execute_result",
          "data": {
            "text/plain": [
              "array([29.52899691, 71.88860026, 19.28081954])"
            ]
          },
          "metadata": {},
          "execution_count": 28
        }
      ]
    },
    {
      "cell_type": "code",
      "source": [
        "model.score(X, y)"
      ],
      "metadata": {
        "colab": {
          "base_uri": "https://localhost:8080/"
        },
        "id": "KsrmwS9MU_fD",
        "outputId": "f16f86dc-5ef4-4cfd-80b7-93f842181a53"
      },
      "execution_count": 29,
      "outputs": [
        {
          "output_type": "execute_result",
          "data": {
            "text/plain": [
              "0.8893325164870745"
            ]
          },
          "metadata": {},
          "execution_count": 29
        }
      ]
    },
    {
      "cell_type": "code",
      "source": [
        "model.predict(np.array([[0.7, 0.7]]))"
      ],
      "metadata": {
        "colab": {
          "base_uri": "https://localhost:8080/"
        },
        "id": "qoINbCOHVE_M",
        "outputId": "41833ab5-14c5-4228-c95d-92a35f659aad"
      },
      "execution_count": 32,
      "outputs": [
        {
          "output_type": "execute_result",
          "data": {
            "text/plain": [
              "array([90.27313756])"
            ]
          },
          "metadata": {},
          "execution_count": 32
        }
      ]
    },
    {
      "cell_type": "code",
      "source": [
        "# with sklearn library\n",
        "from sklearn.preprocessing import StandardScaler\n",
        "from sklearn.linear_model import LinearRegression\n",
        "\n",
        "model = LinearRegression()        # create model\n",
        "model.fit(X_sc,y)                    # train model\n",
        "print(\"coefficients and bias: \", model.coef_, model.intercept_)\n",
        "print(model.score(X_sc,y))\n",
        "print(model.predict([[0.7, 0.7]]))"
      ],
      "metadata": {
        "colab": {
          "base_uri": "https://localhost:8080/"
        },
        "id": "fm8iFmYf8HK-",
        "outputId": "34fd48f7-6b77-4b65-8784-edec9c9ccb36"
      },
      "execution_count": 34,
      "outputs": [
        {
          "output_type": "stream",
          "name": "stdout",
          "text": [
            "coefficients and bias:  [29.528992 71.888596] 19.280819\n",
            "0.981824980852882\n",
            "[90.27313004]\n"
          ]
        }
      ]
    },
    {
      "cell_type": "code",
      "source": [
        "model = my_OLS()\n",
        "model.fit(X_sc,y)\n",
        "print(model.W_)\n",
        "print(model.score(X_sc,y))\n",
        "print(model.predict(np.array([[0.7, 0.7]])))"
      ],
      "metadata": {
        "colab": {
          "base_uri": "https://localhost:8080/"
        },
        "id": "cMsbMWQS8h1_",
        "outputId": "95352e4a-08ce-48fd-8248-b1e43bf151f4"
      },
      "execution_count": 36,
      "outputs": [
        {
          "output_type": "stream",
          "name": "stdout",
          "text": [
            "[29.52899691 71.88860026 19.28081954]\n",
            "0.9814885355690101\n",
            "[90.27313756]\n"
          ]
        }
      ]
    },
    {
      "cell_type": "code",
      "source": [],
      "metadata": {
        "id": "gihQ6VsBWIyw"
      },
      "execution_count": null,
      "outputs": []
    }
  ]
}